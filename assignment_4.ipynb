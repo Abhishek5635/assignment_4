{
  "nbformat": 4,
  "nbformat_minor": 0,
  "metadata": {
    "colab": {
      "provenance": []
    },
    "kernelspec": {
      "name": "python3",
      "display_name": "Python 3"
    },
    "language_info": {
      "name": "python"
    }
  },
  "cells": [
    {
      "cell_type": "markdown",
      "source": [
        "1. What exactly is []?"
      ],
      "metadata": {
        "id": "H93lkybZaSl7"
      }
    },
    {
      "cell_type": "code",
      "execution_count": null,
      "metadata": {
        "id": "oURL2AfQaObW"
      },
      "outputs": [],
      "source": [
        "It is basically a empty list. a list is collection of item or element."
      ]
    },
    {
      "cell_type": "markdown",
      "source": [
        "2. In a list of values stored in a variable called spam, how would you assign the value &#39;hello&#39; as the\n",
        "third value? (Assume [2, 4, 6, 8, 10] are in spam.)"
      ],
      "metadata": {
        "id": "qBeaWKNiaucb"
      }
    },
    {
      "cell_type": "code",
      "source": [
        "spam = [2,4,6,8,10]\n",
        "# assigning at third index of spam = \"hello\"\n",
        "spam[2] = \"hello\"\n",
        "print(spam)"
      ],
      "metadata": {
        "colab": {
          "base_uri": "https://localhost:8080/"
        },
        "id": "ookxiRwFbAZr",
        "outputId": "2ca6727b-d41f-44e1-8528-e1c713990ca0"
      },
      "execution_count": null,
      "outputs": [
        {
          "output_type": "stream",
          "name": "stdout",
          "text": [
            "[2, 4, 'hello', 8, 10]\n"
          ]
        }
      ]
    },
    {
      "cell_type": "markdown",
      "source": [
        "Let&#39;s pretend the spam includes the list [&#39;a&#39;, &#39;b&#39;, &#39;c&#39;, &#39;d&#39;] for the next three queries."
      ],
      "metadata": {
        "id": "9zl1qR-6blhq"
      }
    },
    {
      "cell_type": "markdown",
      "source": [
        "3. What is the value of spam[int(int(&#39;3&#39; * 2) / 11)]?"
      ],
      "metadata": {
        "id": "dtkt5jvnbn58"
      }
    },
    {
      "cell_type": "code",
      "source": [
        "spam = ['a','b','c','d']\n",
        "# for getting the element in the list\n",
        "spam[int(int(\"3\"*2)/11)] = 'd'\n",
        "\n",
        "# The value of above code will be d\n"
      ],
      "metadata": {
        "colab": {
          "base_uri": "https://localhost:8080/",
          "height": 54
        },
        "id": "ou8iXgfRbL6-",
        "outputId": "ff490871-6771-43a1-8bb6-2b6b117a7cc1"
      },
      "execution_count": null,
      "outputs": [
        {
          "output_type": "stream",
          "name": "stdout",
          "text": [
            "33\n"
          ]
        },
        {
          "output_type": "execute_result",
          "data": {
            "text/plain": [
              "'d'"
            ],
            "application/vnd.google.colaboratory.intrinsic+json": {
              "type": "string"
            }
          },
          "metadata": {},
          "execution_count": 3
        }
      ]
    },
    {
      "cell_type": "markdown",
      "source": [
        "4. What is the value of spam[-1]?\n"
      ],
      "metadata": {
        "id": "ZHdTA8lVdC3-"
      }
    },
    {
      "cell_type": "code",
      "source": [
        "spam = ['a','b','c','d']\n",
        "\n",
        "spam[-1] = 'd'"
      ],
      "metadata": {
        "id": "LW3lLmNacRCK"
      },
      "execution_count": null,
      "outputs": []
    },
    {
      "cell_type": "markdown",
      "source": [
        "5. What is the value of spam[:2]?"
      ],
      "metadata": {
        "id": "1DQDSSJ9e7bs"
      }
    },
    {
      "cell_type": "code",
      "source": [
        "spam = ['a','b','c','d']\n",
        "spam[:2] = ['a','b']"
      ],
      "metadata": {
        "colab": {
          "base_uri": "https://localhost:8080/"
        },
        "id": "zHbHM-bXe8bL",
        "outputId": "6a9ba224-6bb4-45c2-ad8a-a07e5ec2506a"
      },
      "execution_count": null,
      "outputs": [
        {
          "output_type": "execute_result",
          "data": {
            "text/plain": [
              "['a', 'b']"
            ]
          },
          "metadata": {},
          "execution_count": 4
        }
      ]
    },
    {
      "cell_type": "markdown",
      "source": [
        "Let&#39;s pretend bacon has the list [3.14, &#39;cat,&#39; 11, &#39;cat,&#39; True] for the next three questions."
      ],
      "metadata": {
        "id": "tB62PMGnfXKD"
      }
    },
    {
      "cell_type": "markdown",
      "source": [
        "6. What is the value of bacon.index(&#39;cat&#39;)?"
      ],
      "metadata": {
        "id": "SuR79LZlfZOJ"
      }
    },
    {
      "cell_type": "code",
      "source": [
        "bacon = [3.14,\"cat\",11, 'cat',True]\n",
        "\n",
        "# the index of 'cat' will be 1\n",
        "bacon.index('cat') = 1 "
      ],
      "metadata": {
        "colab": {
          "base_uri": "https://localhost:8080/"
        },
        "id": "jkrPlyC1fIFG",
        "outputId": "47e2e5ec-c965-4590-9eae-b60d4fecacb8"
      },
      "execution_count": null,
      "outputs": [
        {
          "output_type": "execute_result",
          "data": {
            "text/plain": [
              "1"
            ]
          },
          "metadata": {},
          "execution_count": 5
        }
      ]
    },
    {
      "cell_type": "markdown",
      "source": [
        "7. How does bacon.append(99) change the look of the list value in bacon?"
      ],
      "metadata": {
        "id": "OvGavly4f75B"
      }
    },
    {
      "cell_type": "code",
      "source": [
        "bacon.append(99)\n",
        "\n",
        "This code will add 99 at the end of the list element. so one more element will be add in bacon"
      ],
      "metadata": {
        "colab": {
          "base_uri": "https://localhost:8080/"
        },
        "id": "sg5bEcrrfu8N",
        "outputId": "9c9893bb-b851-4c38-d4a5-032dd436da45"
      },
      "execution_count": null,
      "outputs": [
        {
          "output_type": "execute_result",
          "data": {
            "text/plain": [
              "[3.14, 'cat', 11, 'cat', True, 99]"
            ]
          },
          "metadata": {},
          "execution_count": 10
        }
      ]
    },
    {
      "cell_type": "markdown",
      "source": [
        "8. How does bacon.remove(&#39;cat&#39;) change the look of the list in bacon?"
      ],
      "metadata": {
        "id": "rWMRknT_gqbc"
      }
    },
    {
      "cell_type": "code",
      "source": [
        "bacon.remove('cat') will permantly remove the first cat  string from the bacon list"
      ],
      "metadata": {
        "colab": {
          "base_uri": "https://localhost:8080/"
        },
        "id": "m4-30nS3gDhj",
        "outputId": "7941b3b7-c4c1-43fd-fa5e-b525d2647607"
      },
      "execution_count": null,
      "outputs": [
        {
          "output_type": "execute_result",
          "data": {
            "text/plain": [
              "[3.14, 11, 'cat', True, 99]"
            ]
          },
          "metadata": {},
          "execution_count": 11
        }
      ]
    },
    {
      "cell_type": "markdown",
      "source": [
        "9. What are the list concatenation and list replication operators?"
      ],
      "metadata": {
        "id": "vPXf-zAPhI1T"
      }
    },
    {
      "cell_type": "code",
      "source": [
        "list concatenation operator : +\n",
        "eg. l1 = [1,2,3]\n",
        "    l2 = [4,5,6]\n",
        "    new_list = l1 +l2\n",
        "    output = [1,2,3,4,5,6]\n",
        "\n",
        "list replication operator : *\n",
        "    l2 = [4,5,6]\n",
        "    new_list = l2*2\n",
        "    output = [4,5,6,4,5,6]\n",
        " \n"
      ],
      "metadata": {
        "id": "GhEtM-KGgytS"
      },
      "execution_count": null,
      "outputs": []
    },
    {
      "cell_type": "markdown",
      "source": [
        "10. What is difference between the list methods append() and insert()?"
      ],
      "metadata": {
        "id": "CAXfsPO9iK37"
      }
    },
    {
      "cell_type": "code",
      "source": [
        "append() : append method is used to element in the last at last index\n",
        "\n",
        "insert() : using insert method we can add element at any index but we need to give index location and element value inside \n",
        "           the insert method as parameter"
      ],
      "metadata": {
        "id": "pfVJfBvhiMAs"
      },
      "execution_count": null,
      "outputs": []
    },
    {
      "cell_type": "markdown",
      "source": [
        "11. What are the two methods for removing items from a list?"
      ],
      "metadata": {
        "id": "Sz1tN-CLjBw5"
      }
    },
    {
      "cell_type": "code",
      "source": [
        "1) pop method \n",
        "2) remove method"
      ],
      "metadata": {
        "id": "PctWsjS8jC0P"
      },
      "execution_count": null,
      "outputs": []
    },
    {
      "cell_type": "markdown",
      "source": [
        "12. Describe how list values and string values are identical."
      ],
      "metadata": {
        "id": "Z5vL3ypukSyx"
      }
    },
    {
      "cell_type": "code",
      "source": [
        "Similarities between string and list:\n",
        "1) both can be concatenated\n",
        "3) both can be indexed\n",
        "3) both can be sliced\n",
        "4) both can make copies \n"
      ],
      "metadata": {
        "id": "u4dM0ggNkUON"
      },
      "execution_count": null,
      "outputs": []
    },
    {
      "cell_type": "markdown",
      "source": [
        "13. What&#39;s the difference between tuples and lists?"
      ],
      "metadata": {
        "id": "8ZsR9CI6k-T0"
      }
    },
    {
      "cell_type": "code",
      "source": [
        "1) syntax : for tuple () this parenthesis are use \n",
        "            for list [] this brackets are use\n",
        "\n",
        "2) mutability : tuples are not mutable (means we cant add, remove element after tuple is declared)\n",
        "                lists are immutable"
      ],
      "metadata": {
        "id": "LSDegb8hk_NG"
      },
      "execution_count": null,
      "outputs": []
    },
    {
      "cell_type": "markdown",
      "source": [
        "14. How do you type a tuple value that only contains the integer 42?"
      ],
      "metadata": {
        "id": "hAJtEGDgmArI"
      }
    },
    {
      "cell_type": "code",
      "source": [
        "tuple (42,)\n",
        "\n",
        "here comma is must to declare single element containg tuple otherwise python will consider it integer value not tuple."
      ],
      "metadata": {
        "id": "tD4nmAO5mBlT"
      },
      "execution_count": null,
      "outputs": []
    },
    {
      "cell_type": "markdown",
      "source": [
        "15. How do you get a list value&#39;s tuple form? How do you get a tuple value&#39;s list form?\n"
      ],
      "metadata": {
        "id": "Cvlev95ImZgD"
      }
    },
    {
      "cell_type": "code",
      "source": [
        "for getting list value in the tuple for we need to type concatenation tuple\n",
        "l1 = [1,2,3]\n",
        "mytpl = tuple(l1)\n",
        "\n",
        "same we have to do for tuple to convert it to list\n",
        "mytpl = (1,2,3)\n",
        "newtpl = list(mytpl)"
      ],
      "metadata": {
        "id": "WQwrLBWGmbNQ"
      },
      "execution_count": null,
      "outputs": []
    },
    {
      "cell_type": "markdown",
      "source": [
        "16. Variables that &quot;contain&quot; list values are not necessarily lists themselves. Instead, what do they\n",
        "contain?"
      ],
      "metadata": {
        "id": "5UkQDiBXnOBN"
      }
    },
    {
      "cell_type": "code",
      "source": [
        "Variables that \"contain\" list values are not necessarily lists themselves isnsted they contain memory location where the list is stored"
      ],
      "metadata": {
        "id": "p4aYCwj3nTNv"
      },
      "execution_count": null,
      "outputs": []
    },
    {
      "cell_type": "markdown",
      "source": [
        "17. How do you distinguish between copy.copy() and copy.deepcopy()?"
      ],
      "metadata": {
        "id": "-mTR4XtRoCgD"
      }
    },
    {
      "cell_type": "code",
      "source": [
        "copy.copy() : this method creates a shallow copy.\n",
        "              It means if we make changes in the original object then we can see those changes inside the shallow copy as well\n",
        "\n",
        "deepcopy () : this method make the deep copy of original object\n",
        "              It mean if we make changes inside the original object then there is no changes inside the deep copy.\n"
      ],
      "metadata": {
        "id": "eYboKeH3oDZf"
      },
      "execution_count": null,
      "outputs": []
    }
  ]
}